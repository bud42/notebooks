{
 "metadata": {
  "name": "NewhouseMM_tbss_20140417"
 },
 "nbformat": 3,
 "nbformat_minor": 0,
 "worksheets": [
  {
   "cells": [
    {
     "cell_type": "heading",
     "level": 1,
     "metadata": {},
     "source": [
      "NewhouseMM TBSS Workflow"
     ]
    },
    {
     "cell_type": "markdown",
     "metadata": {},
     "source": [
      "This workbook contains all steps necessary to perform a TBSS group analysis starting with data in XNAT. The steps are:\n",
      "\n",
      "1. Prepare Data\n",
      "  1. Make a list of sessions and groups\n",
      "  1. Download the TBSS_pre data from XNAT\n",
      "  1. Organize the downloaded data for input to TBSS\n",
      "  1. Create the design file\n",
      "1. Run final TBSS Steps\n",
      "  1.Run TBSS Step 3\n",
      "  1. Check the output (if necessary, eliminate any problem sessions and run step 3 again)\n",
      "  1. Run TBSS Step 4\n",
      "  1. Run TBSS_non_FA for AD\n",
      "  1. Run TBSS_non_FA for RD\n",
      "1. Run stats\n",
      "  1. Run randomise with a small number (n=100) of permutations for testing\n",
      "  1. View results\n",
      "  1. Run randomise again with large number (n=5000) of permutations\n",
      "  1. Run randomise on AD\n",
      "  1. Run randomise on RD\n",
      "  1. View results\n"
     ]
    },
    {
     "cell_type": "heading",
     "level": 3,
     "metadata": {},
     "source": [
      "Prepare Data"
     ]
    },
    {
     "cell_type": "raw",
     "metadata": {},
     "source": [
      "#Use Xnatdownload script to download data\n",
      "~/xnatspiders/Xnat_tools/Xnatdownload -p NewhouseMM -a TBSS_pre -d /scratch/boydb1/NewhouseMM_tbss -s nan"
     ]
    },
    {
     "cell_type": "raw",
     "metadata": {},
     "source": [
      "# Organize the downloaded data\n",
      "cd /scratch/boydb1/NewhouseMM_tbss/DownloadDir_2014_3_21/NewhouseMM\n",
      "\n",
      "for i in *;do cd ${i}/${i}a/NewhouseMM-x-${i}-x-${i}a-x-TBSS_pre/DATA;unzip DATA.zip;cd /scratch/boydb1/NewhouseMM_tbss/DownloadDir_2014_3_21/NewhouseMM/;done\n",
      "\n",
      "mkdir /scratch/boydb1/NewhouseMM_tbss/TBSS\n",
      "mkdir /scratch/boydb1/NewhouseMM_tbss/TBSS/AD\n",
      "mkdir /scratch/boydb1/NewhouseMM_tbss/TBSS/FA\n",
      "mkdir /scratch/boydb1/NewhouseMM_tbss/TBSS/RD\n",
      "mkdir /scratch/boydb1/NewhouseMM_tbss/TBSS/stats\n",
      "\n",
      "cp /scratch/boydb1/NewhouseMM_tbss/DownloadDir_2014_3_21/NewhouseMM/*/*/*/DATA/AD/* /scratch/boydb1/NewhouseMM_tbss/TBSS/AD/\n",
      "cp /scratch/boydb1/NewhouseMM_tbss/DownloadDir_2014_3_21/NewhouseMM/*/*/*/DATA/RD/* /scratch/boydb1/NewhouseMM_tbss/TBSS/RD/\n",
      "cp /scratch/boydb1/NewhouseMM_tbss/DownloadDir_2014_3_21/NewhouseMM/*/*/*/DATA/FA/*.* /scratch/boydb1/NewhouseMM_tbss/TBSS/FA/\n",
      "## note that FA copying will be overwriting the same files for each subject for the target, etc."
     ]
    },
    {
     "cell_type": "code",
     "collapsed": false,
     "input": [
      "#Create the design file\n",
      "\n",
      "# Get list of subjects for each group\n",
      "hi_group = ['2304', '2307', '2309', '2311', '2314', '2317', '2331', '2338', '2343', '2346']\n",
      "lo_group = ['2310', '2318', '2324', '2332', '2333', '2335', '2340', '2342', '2349']\n",
      "\n",
      "# Create a single dict mapping subj 2 group\n",
      "hi_dict = map(lambda x: (x,'hi'), hi_group)\n",
      "lo_dict = map(lambda x: (x,'lo'), lo_group)\n",
      "subj2group = dict(hi_dict + lo_dict)\n",
      "\n",
      "# Print the file to stdout\n",
      "print('/NumWaves 2')\n",
      "print('/NumPoints '+str(len(subj2group)))\n",
      "print('/PPheights 1 1')\n",
      "print('/Matrix')\n",
      "\n",
      "for subj in sorted(subj2group):\n",
      "    if subj2group[subj] == 'hi':\n",
      "        print('1 0')\n",
      "    elif subj2group[subj] == 'lo':\n",
      "        print('0 1')\n",
      "    else:\n",
      "        print('ERROR:invalid group:'+subj2group[subj])\n"
     ],
     "language": "python",
     "metadata": {},
     "outputs": [
      {
       "output_type": "stream",
       "stream": "stdout",
       "text": [
        "/NumWaves 2\n",
        "/NumPoints 19\n",
        "/PPheights 1 1\n",
        "/Matrix\n",
        "1 0\n",
        "1 0\n",
        "1 0\n",
        "0 1\n",
        "1 0\n",
        "1 0\n",
        "1 0\n",
        "0 1\n",
        "0 1\n",
        "1 0\n",
        "0 1\n",
        "0 1\n",
        "0 1\n",
        "1 0\n",
        "0 1\n",
        "0 1\n",
        "1 0\n",
        "1 0\n",
        "0 1\n"
       ]
      }
     ],
     "prompt_number": 25
    },
    {
     "cell_type": "heading",
     "level": 3,
     "metadata": {},
     "source": [
      "Complete TBSS Steps"
     ]
    },
    {
     "cell_type": "raw",
     "metadata": {},
     "source": [
      "# Run Step 3, note that will apply the transforms again to create the to_target images\n",
      "cd /scratch/boydb1/NewhouseMM_tbss/TBSS\n",
      "tbss_3_postreg -S"
     ]
    },
    {
     "cell_type": "raw",
     "metadata": {},
     "source": [
      "# Use fslview to check the skeleton on each subjects FA\n",
      "cd stats\n",
      "fslview all_FA -b 0,0.8 mean_FA_skeleton -b 0.2,0.8 -l Green\n",
      "\n",
      "# If problems found, remove bad sessions and run Step 3 again"
     ]
    },
    {
     "cell_type": "raw",
     "metadata": {},
     "source": [
      "# Run Step 4\n",
      "tbss_4_prestats 0.2\n",
      "\n",
      "# Run Non FA \n",
      "cd /scratch/boydb1/NewhouseMM_tbss/TBSS\n",
      "tbss_non_FA AD\n",
      "tbss_non_FA RD"
     ]
    },
    {
     "cell_type": "heading",
     "level": 3,
     "metadata": {},
     "source": [
      "Statistics"
     ]
    },
    {
     "cell_type": "raw",
     "metadata": {},
     "source": [
      "Prep design file"
     ]
    },
    {
     "cell_type": "raw",
     "metadata": {},
     "source": [
      "[boydb1@smithers stats]$ cat design.mat \n",
      "/NumWaves 2\n",
      "/NumPoints 19\n",
      "/PPheights 1 1\n",
      "/Matrix\n",
      "1 0\n",
      "...\n",
      "...\n",
      "\n",
      "[boydb1@smithers stats]$ cat design.con \n",
      "/NumWaves 2\n",
      "/NumContrasts 2\n",
      "/PPheights 1 1\n",
      "/Matrix\n",
      "1 -1\n",
      "-1 1\n"
     ]
    },
    {
     "cell_type": "raw",
     "metadata": {},
     "source": [
      "# Run randomise with 100 perms to test, should take a few minutes each\n",
      "randomise -i all_FA_skeletonised -o tbss_FA_100 -m mean_FA_skeleton_mask -d design.mat -t design.con -n 100 --T2\n",
      "randomise -i all_AD_skeletonised -o tbss_AD_100 -m mean_FA_skeleton_mask -d design.mat -t design.con -n 100 --T2\n",
      "randomise -i all_RD_skeletonised -o tbss_RD_100 -m mean_FA_skeleton_mask -d design.mat -t design.con -n 100 --T2\n",
      "\n",
      "# View results from randomise\n",
      "fslview $FSLDIR/data/standard/MNI152_T1_1mm mean_FA_skeleton -l Green -b 0.2,0.7 tbss_FA_100_tfce_corrp_tstat1 -l Red-Yellow -b 0.95,1 tbss_FA_100_tfce_corrp_tstat2 -l Blue-Lightblue -b 0.95,1\n",
      "\n",
      "fslview $FSLDIR/data/standard/MNI152_T1_1mm mean_FA_skeleton -l Green -b 0.2,0.7 tbss_AD_100_tfce_corrp_tstat1 -l Red-Yellow -b 0.95,1 tbss_AD_100_tfce_corrp_tstat2 -l Blue-Lightblue -b 0.95,1\n",
      "\n",
      "fslview $FSLDIR/data/standard/MNI152_T1_1mm mean_FA_skeleton -l Green -b 0.2,0.7 tbss_RD_100_tfce_corrp_tstat1 -l Red-Yellow -b 0.95,1 tbss_RD_100_tfce_corrp_tstat2 -l Blue-Lightblue -b 0.95,1"
     ]
    },
    {
     "cell_type": "raw",
     "metadata": {},
     "source": [
      "# Now run randomise with 5000 permutations, will take several hours each\n",
      "randomise -i all_FA_skeletonised -o tbss_FA -m mean_FA_skeleton_mask -d design.mat -t design.con -n 5000 --T2\n",
      "randomise -i all_AD_skeletonised -o tbss_AD -m mean_FA_skeleton_mask -d design.mat -t design.con -n 5000 --T2\n",
      "randomise -i all_RD_skeletonised -o tbss_RD -m mean_FA_skeleton_mask -d design.mat -t design.con -n 5000 --T2"
     ]
    },
    {
     "cell_type": "code",
     "collapsed": false,
     "input": [
      "!~/xnatspiders/"
     ],
     "language": "python",
     "metadata": {},
     "outputs": []
    }
   ],
   "metadata": {}
  }
 ]
}
